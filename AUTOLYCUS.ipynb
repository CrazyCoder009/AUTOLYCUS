{
  "cells": [
    {
      "cell_type": "markdown",
      "metadata": {
        "colab_type": "text",
        "id": "view-in-github"
      },
      "source": [
        "<a href=\"https://colab.research.google.com/github/CrazyCoder009/AUTOLYCUS/blob/master/AUTOLYCUS.ipynb\" target=\"_parent\"><img src=\"https://colab.research.google.com/assets/colab-badge.svg\" alt=\"Open In Colab\"/></a>"
      ]
    },
    {
      "cell_type": "markdown",
      "metadata": {
        "colab_type": "text",
        "id": "k2iDzwB9QeGW"
      },
      "source": [
        "#Welcome to **AUTOLYCUS** \n",
        "The Torrent to Drive Downloader tool \n",
        "\n",
        "> For more visit CrazyCoder009 >> https://github.com/CrazyCoder009\n",
        "\n"
      ]
    },
    {
      "cell_type": "code",
      "execution_count": null,
      "metadata": {
        "colab": {},
        "colab_type": "code",
        "id": "qJtAcvAlOdfK"
      },
      "outputs": [],
      "source": [
        "#adding corrections as suggested by SnazzyCoder (apologies for the late implementation)\n",
        "!python -m pip install --upgrade pip setuptools wheel\n",
        "!python -m pip install lbry-libtorrent\n",
        "\n",
        "#Run the program by clicking the left run button. <nOObs>\n",
        "\n",
        "!apt install python3-libtorrent\n",
        "# you can comment the upper !apt line if this is not your first time running this code (psst! reduces waiting time)\n",
        "\n",
        "import libtorrent as lt\n",
        "\n",
        "ses = lt.session()\n",
        "ses.listen_on(6881, 6891)\n",
        "downloads = []\n",
        "\n",
        "# Code for Connecting your Google Drive \n",
        "from google.colab import drive\n",
        "print(\" \")\n",
        "print(\"Click on the generated link to select Destination Drive:\")\n",
        "drive.mount(\"/content/drive\")\n",
        "\n",
        "# Code for Magnet URL Input of \n",
        "print(\"Drive Connected Successfully! \")\n",
        "print(\" \")\n",
        "params = {\"save_path\": \"/content/drive/My Drive/Torrent\"}\n",
        "\n",
        "while True:\n",
        "    magnet_link = input(\"Enter Magnet/Download Link Or Type Exit: \")\n",
        "    if magnet_link.lower() == \"exit\":\n",
        "        break\n",
        "    downloads.append(\n",
        "        lt.add_magnet_uri(ses, magnet_link, params)\n",
        "    )\n",
        "#Actual download Process Threads Code\n",
        "\n",
        "import time\n",
        "from IPython.display import display\n",
        "import ipywidgets as widgets\n",
        "\n",
        "state_str = [\n",
        "    \"queued\",\n",
        "    \"Apun checking karelai.. \",\n",
        "    \"downloading metadata\",\n",
        "    \"downloading bhai, wait karneka.. \",\n",
        "    \"finished\",\n",
        "    \"seeding\",\n",
        "    \"allocating\",\n",
        "    \"checking fastresume\",\n",
        "]\n",
        "\n",
        "layout = widgets.Layout(width=\"auto\")\n",
        "style = {\"description_width\": \"initial\"}\n",
        "download_bars = [\n",
        "    widgets.FloatSlider(\n",
        "        step=0.01, disabled=True, layout=layout, style=style\n",
        "    )\n",
        "    for _ in downloads\n",
        "]\n",
        "display(*download_bars)\n",
        "\n",
        "while downloads:\n",
        "    next_shift = 0\n",
        "    for index, download in enumerate(downloads[:]):\n",
        "        bar = download_bars[index + next_shift]\n",
        "        if not download.is_seed():\n",
        "            s = download.status()\n",
        "\n",
        "            bar.description = \" \".join(\n",
        "                [\n",
        "                    download.name(),\n",
        "                    str(s.download_rate / 1000),\n",
        "                    \"kB/s\",\n",
        "                    state_str[s.state],\n",
        "                ]\n",
        "            )\n",
        "            bar.value = s.progress * 100\n",
        "        else:\n",
        "            next_shift -= 1\n",
        "            ses.remove_torrent(download)\n",
        "            downloads.remove(download)\n",
        "            bar.close() \n",
        "            download_bars.remove(bar)\n",
        "            print(download.name(), \"Complete\")\n",
        "    time.sleep(1)\n",
        "\n",
        "#RRN\n",
        "#GitHub.com/CrazyCoder009\n"
      ]
    },
    {
      "cell_type": "markdown",
      "metadata": {
        "colab_type": "text",
        "id": "qpcZ_U8iQner"
      },
      "source": [
        "**Disclaimer**: I'm not responsible for any damages or activities related to mis-management of this code or program. Hence use at your own risk. I've made this only for Research purposes."
      ]
    }
  ],
  "metadata": {
    "accelerator": "TPU",
    "colab": {
      "authorship_tag": "ABX9TyNhmFuKMcWiaDPoDismUvp0",
      "collapsed_sections": [],
      "include_colab_link": true,
      "name": "AUTOLYCUS.ipynb",
      "provenance": []
    },
    "kernelspec": {
      "display_name": "Python 3",
      "name": "python3"
    }
  },
  "nbformat": 4,
  "nbformat_minor": 0
}
